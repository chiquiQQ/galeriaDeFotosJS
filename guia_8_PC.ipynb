{
  "nbformat": 4,
  "nbformat_minor": 0,
  "metadata": {
    "colab": {
      "provenance": [],
      "mount_file_id": "1mXLHu4lK-sSuPWlFJB-ENXGY0vz_-Gtu",
      "authorship_tag": "ABX9TyNhxFH2CR1xiZAkJSFk2MP+",
      "include_colab_link": true
    },
    "kernelspec": {
      "name": "python3",
      "display_name": "Python 3"
    },
    "language_info": {
      "name": "python"
    }
  },
  "cells": [
    {
      "cell_type": "markdown",
      "metadata": {
        "id": "view-in-github",
        "colab_type": "text"
      },
      "source": [
        "<a href=\"https://colab.research.google.com/github/chiquiQQ/galeriaDeFotosJS/blob/main/guia_8_PC.ipynb\" target=\"_parent\"><img src=\"https://colab.research.google.com/assets/colab-badge.svg\" alt=\"Open In Colab\"/></a>"
      ]
    },
    {
      "cell_type": "markdown",
      "source": [
        "**Guia de ejercicios: \"Archivos\"**"
      ],
      "metadata": {
        "id": "Kyzj434t-_Aj"
      }
    },
    {
      "cell_type": "markdown",
      "source": [
        "1. Se tiene un archivo con la pregunta “¿Cómo estás hoy?” llamado pregunta.txt. Se pide leerlo y mostrar\n",
        "la pregunta por pantalla para luego pedirle al usuario que ingrese una respuesta. Después, guardar la respuesta\n",
        "dada por el usuario en el archivo.\n",
        "Por ejemplo, se tiene el archivo pregunta.txt que originalmente tiene:\n",
        "¿Cómo estás hoy?\n",
        "Y el usuario da la respuesta: “¡Bien, porque me comí una hamburguesa!”\n",
        "Entonces el archivo debería quedar de la forma:\n",
        "¿Cómo estás hoy?\n",
        "¡Bien, porque me comí una hamburguesa!"
      ],
      "metadata": {
        "id": "A7WEFwke2ohl"
      }
    },
    {
      "cell_type": "code",
      "execution_count": 69,
      "metadata": {
        "id": "RtAqm7V-JMUf",
        "colab": {
          "base_uri": "https://localhost:8080/"
        },
        "outputId": "8fa587f8-2a91-4156-c9b8-7b7712bceb7c"
      },
      "outputs": [
        {
          "output_type": "stream",
          "name": "stdout",
          "text": [
            "Listo, archivo actualizado con la pregunta.\n"
          ]
        }
      ],
      "source": [
        "# Sobrescribe todo el contenido del archivo con la pregunta\n",
        "archivo = open(\"/content/drive/MyDrive/archivos_csv/pregunta.txt\", \"w\")\n",
        "archivo.write(\"¿Cómo estás hoy?\")\n",
        "archivo.close()\n",
        "\n",
        "print(\"Listo, archivo actualizado con la pregunta.\")\n",
        "\n",
        "\n"
      ]
    },
    {
      "cell_type": "code",
      "source": [
        "archivo = open(\"/content/drive/MyDrive/archivos_csv/pregunta.txt\", \"r\")\n",
        "pregunta = archivo.read()\n",
        "archivo.close()\n",
        "\n",
        "print(pregunta)\n",
        "\n",
        "respuesta = input(\"Ingresa tu respuesta: \")\n",
        "\n",
        "archivo = open(\"/content/drive/MyDrive/archivos_csv/pregunta.txt\", \"a\")\n",
        "archivo.write(\"\\n\" + respuesta)\n",
        "archivo.close()\n",
        "\n",
        "print(\"Listo, tu respuesta ha sido guardada en el archivo.\")\n"
      ],
      "metadata": {
        "colab": {
          "base_uri": "https://localhost:8080/"
        },
        "id": "c38gCQ3rwBCb",
        "outputId": "e658e5e9-5c5c-440e-ee68-016b2b663d49"
      },
      "execution_count": 70,
      "outputs": [
        {
          "output_type": "stream",
          "name": "stdout",
          "text": [
            "¿Cómo estás hoy?\n",
            "Ingresa tu respuesta: Bien porque me comí una hamburguesa\n",
            "Listo, tu respuesta ha sido guardada en el archivo.\n"
          ]
        }
      ]
    },
    {
      "cell_type": "markdown",
      "source": [
        "2.En un archivo llamado regalo.txt se tiene la lista de las personas que quieren participar en el regalo de\n",
        "cumpleaños de Sol (en cada línea está el nombre de una persona). El encargado de organizar el regalo\n",
        "es Ale, y quiere saber más información antes de ir a comprarle algo a Sol.\n",
        "\n",
        "a. Mostrar por pantalla los nombres de las personas que quieren participar en el regalo."
      ],
      "metadata": {
        "id": "wjX1W0X7-m5E"
      }
    },
    {
      "cell_type": "code",
      "source": [
        "# Sobrescribe todo el contenido del archivo con la pregunta\n",
        "archivo = open(\"/content/drive/MyDrive/archivos_csv/regalo.txt\", \"w\")\n",
        "archivo.write(\"Agus\\n\")\n",
        "archivo.write(\"Manu\\n\")\n",
        "archivo.write(\"Santi\\n\")\n",
        "archivo.write(\"Lorena\\n\")\n",
        "archivo.write(\"Maria\\n\")\n",
        "archivo.close()\n",
        "\n",
        "print(\"Listo, archivo actualizado con los invitados.\")"
      ],
      "metadata": {
        "colab": {
          "base_uri": "https://localhost:8080/"
        },
        "id": "9bN5B6D4-l_G",
        "outputId": "8d0452f2-1c45-4bd4-a4dd-6c230b9c24aa"
      },
      "execution_count": 86,
      "outputs": [
        {
          "output_type": "stream",
          "name": "stdout",
          "text": [
            "Listo, archivo actualizado con los invitados.\n"
          ]
        }
      ]
    },
    {
      "cell_type": "code",
      "source": [
        "archivo = open(\"/content/drive/MyDrive/archivos_csv/regalo.txt\", \"r\")\n",
        "participantes = archivo.readlines()\n",
        "archivo.close()\n",
        "\n",
        "print(\"Nombres de los participantes:\")\n",
        "for participante in participantes:\n",
        "    print(participante.strip())\n",
        "\n"
      ],
      "metadata": {
        "colab": {
          "base_uri": "https://localhost:8080/"
        },
        "id": "PsAlqW5-CNxK",
        "outputId": "43b1f702-522d-46f3-d358-262291c776f1"
      },
      "execution_count": 79,
      "outputs": [
        {
          "output_type": "stream",
          "name": "stdout",
          "text": [
            "Nombres de los participantes:\n",
            "Agus\n",
            "Manu\n",
            "Santi\n",
            "Lorena\n",
            "Maria\n"
          ]
        }
      ]
    },
    {
      "cell_type": "markdown",
      "source": [
        "b. Se sabe que quieren poner 1000 pesos por persona por regalo. Hacer una función que devuelva\n",
        "cuánto dinero tiene Ale para hacerle el regalo a Sol."
      ],
      "metadata": {
        "id": "3-_HbGtWDZ_n"
      }
    },
    {
      "cell_type": "code",
      "source": [
        "def calcular_dinero_para_sol(cantidad_invitados):\n",
        "    return cantidad_invitados * 1000\n",
        "\n",
        "dinero_disponible = calcular_dinero_para_sol(len(participantes))\n",
        "print(\"Hay\", dinero_disponible, \"pesos para comprar el regalo a Sol\")"
      ],
      "metadata": {
        "colab": {
          "base_uri": "https://localhost:8080/"
        },
        "id": "dupLQZloDhkl",
        "outputId": "ac9882ba-9554-45a3-b8ce-41957eaa092b"
      },
      "execution_count": 81,
      "outputs": [
        {
          "output_type": "stream",
          "name": "stdout",
          "text": [
            "Hay 5000 pesos para comprar el regalo a Sol\n"
          ]
        }
      ]
    },
    {
      "cell_type": "markdown",
      "source": [
        "c. Tomi sabe que si participa Santi, también participa Tomi. Se pide que si Santi está en el archivo\n",
        "de los nombres, se agregue también a Tomi."
      ],
      "metadata": {
        "id": "w8D3odCXGHHe"
      }
    },
    {
      "cell_type": "code",
      "source": [
        "nombres_limpios = []\n",
        "for nombre in participantes:\n",
        "    nombres_limpios.append(nombre.strip())\n",
        "\n",
        "participantes = nombres_limpios\n",
        "\n",
        "# Verificamos si Santi está y si Tomi no está ya\n",
        "if \"Santi\" in participantes and \"Tomi\" not in participantes:\n",
        "    with open(\"/content/drive/MyDrive/archivos_csv/regalo.txt\", \"a\") as archivo:\n",
        "        archivo.write(\"Tomi\\n\")\n",
        "    print(\"Santi está, así que se agregó a Tomi también.\")\n",
        "else:\n",
        "    print(\"No hace falta agregar a Tomi.\")"
      ],
      "metadata": {
        "colab": {
          "base_uri": "https://localhost:8080/"
        },
        "id": "E6KTOuNeGM_l",
        "outputId": "5387f3f7-069b-46c4-dffa-d465a472fa0f"
      },
      "execution_count": 88,
      "outputs": [
        {
          "output_type": "stream",
          "name": "stdout",
          "text": [
            "Santi está, así que se agregó a Tomi también.\n"
          ]
        }
      ]
    }
  ]
}